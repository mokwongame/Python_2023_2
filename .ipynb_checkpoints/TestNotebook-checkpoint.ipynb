{
 "cells": [
  {
   "cell_type": "code",
   "execution_count": 1,
   "id": "3c04ce48-9a20-4780-8417-c55c5760984c",
   "metadata": {},
   "outputs": [],
   "source": [
    "a = 'MokwonGame'"
   ]
  },
  {
   "cell_type": "code",
   "execution_count": 2,
   "id": "b776b051-4f8d-485c-ac2d-91d43d9f34aa",
   "metadata": {},
   "outputs": [
    {
     "name": "stdout",
     "output_type": "stream",
     "text": [
      "MokwonGame\n"
     ]
    }
   ],
   "source": [
    "print(a)"
   ]
  },
  {
   "cell_type": "code",
   "execution_count": null,
   "id": "2ec64e38-5b8e-4245-812a-6c58041ff31c",
   "metadata": {},
   "outputs": [],
   "source": []
  }
 ],
 "metadata": {
  "kernelspec": {
   "display_name": "Python 3 (ipykernel)",
   "language": "python",
   "name": "python3"
  },
  "language_info": {
   "codemirror_mode": {
    "name": "ipython",
    "version": 3
   },
   "file_extension": ".py",
   "mimetype": "text/x-python",
   "name": "python",
   "nbconvert_exporter": "python",
   "pygments_lexer": "ipython3",
   "version": "3.12.0"
  }
 },
 "nbformat": 4,
 "nbformat_minor": 5
}
