{
 "cells": [
  {
   "cell_type": "code",
   "execution_count": 1,
   "id": "88b0b7a6-abe6-42ef-b57f-0db2dcb400f7",
   "metadata": {},
   "outputs": [],
   "source": [
    "a = 1+3"
   ]
  },
  {
   "cell_type": "code",
   "execution_count": 2,
   "id": "e1f3eae1-3e63-4702-b4fc-092acbd4b19c",
   "metadata": {},
   "outputs": [
    {
     "name": "stdout",
     "output_type": "stream",
     "text": [
      "4\n"
     ]
    }
   ],
   "source": [
    "print(a)"
   ]
  },
  {
   "cell_type": "code",
   "execution_count": null,
   "id": "c28bf3f5-e864-447a-ae59-81a0b697a354",
   "metadata": {},
   "outputs": [],
   "source": []
  }
 ],
 "metadata": {
  "kernelspec": {
   "display_name": "Python 3 (ipykernel)",
   "language": "python",
   "name": "python3"
  },
  "language_info": {
   "codemirror_mode": {
    "name": "ipython",
    "version": 3
   },
   "file_extension": ".py",
   "mimetype": "text/x-python",
   "name": "python",
   "nbconvert_exporter": "python",
   "pygments_lexer": "ipython3",
   "version": "3.12.0"
  }
 },
 "nbformat": 4,
 "nbformat_minor": 5
}
