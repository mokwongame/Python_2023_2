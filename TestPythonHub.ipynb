{
 "cells": [
  {
   "cell_type": "code",
   "execution_count": 1,
   "id": "f49d1339-d869-47ac-ab8c-572c064e3216",
   "metadata": {},
   "outputs": [],
   "source": [
    "from PythonHub import PythonHub # PythonHub 모듈(PythonHub.py)로부터 클래스 PythonHub을 수입함\n",
    "pyHub = PythonHub()\n",
    "PythonHub.wait(1.5)"
   ]
  },
  {
   "cell_type": "code",
   "execution_count": 2,
   "id": "27f2cfa1-09b3-4803-8c90-08ee186b478c",
   "metadata": {
    "scrolled": true
   },
   "outputs": [],
   "source": [
    "#pythonHub = PythonHub('COM4', 9600) # 클래스 PythonHub의 생성자를 호출해서 인스턴스 생성\n",
    "# 생성된 인스턴스는 pythonHub에 저장\n",
    "#pyHub.talkListen('get volt')"
   ]
  },
  {
   "cell_type": "code",
   "execution_count": 10,
   "id": "67e9583d-83b0-43b3-b29a-3fdf0c6a48fc",
   "metadata": {},
   "outputs": [
    {
     "name": "stdout",
     "output_type": "stream",
     "text": [
      "3.3577712\n"
     ]
    }
   ],
   "source": [
    "volt = pyHub.getVolt()\n",
    "print(volt)"
   ]
  },
  {
   "cell_type": "code",
   "execution_count": 4,
   "id": "cb554283-bb57-44a6-85a0-fd2d9142291e",
   "metadata": {},
   "outputs": [
    {
     "name": "stdout",
     "output_type": "stream",
     "text": [
      "ambient\n"
     ]
    }
   ],
   "source": [
    "sLight = pyHub.getLight()\n",
    "print(sLight)"
   ]
  },
  {
   "cell_type": "code",
   "execution_count": 5,
   "id": "56d4bfb8-97df-474e-8604-b848671a2b34",
   "metadata": {},
   "outputs": [],
   "source": [
    "pyHub.setServoMove(180)"
   ]
  },
  {
   "cell_type": "code",
   "execution_count": 6,
   "id": "08be0e23-6c33-4be5-9a02-3d9ae85c860e",
   "metadata": {},
   "outputs": [],
   "source": [
    "pyHub.setLedColor('red')\n",
    "PythonHub.wait(1.)\n",
    "pyHub.setLedColor('black')"
   ]
  },
  {
   "cell_type": "code",
   "execution_count": 7,
   "id": "6b357475-9cfe-45fc-be08-16653704a62d",
   "metadata": {},
   "outputs": [],
   "source": [
    "pyHub.setBuzzerNote('do', 1000)\n",
    "pyHub.setBuzzerNote('re', 1000)\n",
    "pyHub.setBuzzerNote('mi', 1000)"
   ]
  },
  {
   "cell_type": "code",
   "execution_count": 4,
   "id": "fc210f8a-1023-425b-8a97-45b80d5a0d48",
   "metadata": {},
   "outputs": [
    {
     "name": "stdout",
     "output_type": "stream",
     "text": [
      "True\n"
     ]
    }
   ],
   "source": [
    "result = pyHub.addVoltToTuple()\n",
    "print(result)"
   ]
  },
  {
   "cell_type": "code",
   "execution_count": 17,
   "id": "d8243e5c-dda0-4313-bbc1-d4734f529113",
   "metadata": {},
   "outputs": [
    {
     "name": "stdout",
     "output_type": "stream",
     "text": [
      "(3.3577712, 3.3528836, 3.3528836, 3.3626587)\n"
     ]
    }
   ],
   "source": [
    "print(pyHub.volts)\n",
    "print(pyHub.voltTimes)"
   ]
  },
  {
   "cell_type": "code",
   "execution_count": 5,
   "id": "33cd8828-82cc-44e4-b533-76414b9f1ac1",
   "metadata": {},
   "outputs": [
    {
     "name": "stdout",
     "output_type": "stream",
     "text": [
      "volt = 3.3577712 @ time = Wed Nov  8 15:48:24 2023\n",
      "volt = 3.3577712 @ time = Wed Nov  8 15:48:26 2023\n",
      "volt = 3.3528836 @ time = Wed Nov  8 15:48:28 2023\n"
     ]
    }
   ],
   "source": [
    "pyHub.printVoltTuple()"
   ]
  },
  {
   "cell_type": "code",
   "execution_count": null,
   "id": "b97feff2-92ef-4b74-a387-46ff29a69bb0",
   "metadata": {},
   "outputs": [],
   "source": []
  }
 ],
 "metadata": {
  "kernelspec": {
   "display_name": "Python 3 (ipykernel)",
   "language": "python",
   "name": "python3"
  },
  "language_info": {
   "codemirror_mode": {
    "name": "ipython",
    "version": 3
   },
   "file_extension": ".py",
   "mimetype": "text/x-python",
   "name": "python",
   "nbconvert_exporter": "python",
   "pygments_lexer": "ipython3",
   "version": "3.12.0"
  }
 },
 "nbformat": 4,
 "nbformat_minor": 5
}
