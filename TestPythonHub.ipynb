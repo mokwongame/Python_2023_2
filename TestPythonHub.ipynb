{
 "cells": [
  {
   "cell_type": "code",
   "execution_count": 1,
   "id": "f49d1339-d869-47ac-ab8c-572c064e3216",
   "metadata": {},
   "outputs": [],
   "source": [
    "from PythonHub import PythonHub # PythonHub 모듈(PythonHub.py)로부터 클래스 PythonHub을 수입함"
   ]
  },
  {
   "cell_type": "code",
   "execution_count": 2,
   "id": "27f2cfa1-09b3-4803-8c90-08ee186b478c",
   "metadata": {
    "scrolled": true
   },
   "outputs": [],
   "source": [
    "#pythonHub = PythonHub('COM4', 9600) # 클래스 PythonHub의 생성자를 호출해서 인스턴스 생성\n",
    "# 생성된 인스턴스는 pythonHub에 저장"
   ]
  },
  {
   "cell_type": "code",
   "execution_count": 3,
   "id": "79d8bf9e-5143-4f9e-bda3-992a6917ac31",
   "metadata": {},
   "outputs": [
    {
     "name": "stdout",
     "output_type": "stream",
     "text": [
      "생성자 호출됨\n"
     ]
    }
   ],
   "source": [
    "pyHub = PythonHub()"
   ]
  },
  {
   "cell_type": "code",
   "execution_count": 4,
   "id": "9c5b2bf9-c413-4461-bf74-beeb0381f987",
   "metadata": {},
   "outputs": [
    {
     "name": "stdout",
     "output_type": "stream",
     "text": [
      "소멸자 호출됨\n"
     ]
    }
   ],
   "source": [
    "del pyHub # 인스턴스 pyHub을 소멸시킴(지움)"
   ]
  },
  {
   "cell_type": "code",
   "execution_count": null,
   "id": "2e8e2ef1-6a35-466f-9f6d-9a78b7f5e005",
   "metadata": {},
   "outputs": [],
   "source": []
  }
 ],
 "metadata": {
  "kernelspec": {
   "display_name": "Python 3 (ipykernel)",
   "language": "python",
   "name": "python3"
  },
  "language_info": {
   "codemirror_mode": {
    "name": "ipython",
    "version": 3
   },
   "file_extension": ".py",
   "mimetype": "text/x-python",
   "name": "python",
   "nbconvert_exporter": "python",
   "pygments_lexer": "ipython3",
   "version": "3.12.0"
  }
 },
 "nbformat": 4,
 "nbformat_minor": 5
}
