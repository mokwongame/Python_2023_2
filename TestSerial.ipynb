{
 "cells": [
  {
   "cell_type": "code",
   "execution_count": 1,
   "id": "eee3238d-eb0c-4162-962a-49e1ba653bae",
   "metadata": {},
   "outputs": [],
   "source": [
    "from serial import Serial # serial 모듈에서 Serial 클래스를 수입; C++의 include 역할"
   ]
  },
  {
   "cell_type": "code",
   "execution_count": 2,
   "id": "c4a44fa4-65cd-40b1-aa84-480cde5e2ecc",
   "metadata": {},
   "outputs": [
    {
     "data": {
      "text/plain": [
       "abc.ABCMeta"
      ]
     },
     "execution_count": 2,
     "metadata": {},
     "output_type": "execute_result"
    }
   ],
   "source": [
    "# 핵심 파이썬 명령어: print() -> 객체 출력, type() -> 객체 자료형 확인, help() -> 도움말\n",
    "type(Serial)"
   ]
  },
  {
   "cell_type": "code",
   "execution_count": 4,
   "id": "92fc8d00-9251-4ef4-bfb0-cef58f8db0a6",
   "metadata": {},
   "outputs": [
    {
     "name": "stdout",
     "output_type": "stream",
     "text": [
      "Help on class Serial in module serial.serialwin32:\n",
      "\n",
      "class Serial(serial.serialutil.SerialBase)\n",
      " |  Serial(*args, **kwargs)\n",
      " |\n",
      " |  Serial port implementation for Win32 based on ctypes.\n",
      " |\n",
      " |  Method resolution order:\n",
      " |      Serial\n",
      " |      serial.serialutil.SerialBase\n",
      " |      io.RawIOBase\n",
      " |      _io._RawIOBase\n",
      " |      io.IOBase\n",
      " |      _io._IOBase\n",
      " |      builtins.object\n",
      " |\n",
      " |  Methods defined here:\n",
      " |\n",
      " |  __init__(self, *args, **kwargs)\n",
      " |      Initialize comm port object. If a \"port\" is given, then the port will be\n",
      " |      opened immediately. Otherwise a Serial port object in closed state\n",
      " |      is returned.\n",
      " |\n",
      " |  cancel_read(self)\n",
      " |      Cancel a blocking read operation, may be called from other thread\n",
      " |\n",
      " |  cancel_write(self)\n",
      " |      Cancel a blocking write operation, may be called from other thread\n",
      " |\n",
      " |  close(self)\n",
      " |      Close port\n",
      " |\n",
      " |  flush(self)\n",
      " |      Flush of file like objects. In this case, wait until all data\n",
      " |      is written.\n",
      " |\n",
      " |  open(self)\n",
      " |      Open port with current settings. This may throw a SerialException\n",
      " |      if the port cannot be opened.\n",
      " |\n",
      " |  read(self, size=1)\n",
      " |      Read size bytes from the serial port. If a timeout is set it may\n",
      " |      return less characters as requested. With no timeout it will block\n",
      " |      until the requested number of bytes is read.\n",
      " |\n",
      " |  reset_input_buffer(self)\n",
      " |      Clear input buffer, discarding all that is in the buffer.\n",
      " |\n",
      " |  reset_output_buffer(self)\n",
      " |      Clear output buffer, aborting the current output and discarding all\n",
      " |      that is in the buffer.\n",
      " |\n",
      " |  set_buffer_size(self, rx_size=4096, tx_size=None)\n",
      " |      Recommend a buffer size to the driver (device driver can ignore this\n",
      " |      value). Must be called after the port is opened.\n",
      " |\n",
      " |  set_output_flow_control(self, enable=True)\n",
      " |      Manually control flow - when software flow control is enabled.\n",
      " |      This will do the same as if XON (true) or XOFF (false) are received\n",
      " |      from the other device and control the transmission accordingly.\n",
      " |      WARNING: this function is not portable to different platforms!\n",
      " |\n",
      " |  write(self, data)\n",
      " |      Output the given byte string over the serial port.\n",
      " |\n",
      " |  ----------------------------------------------------------------------\n",
      " |  Readonly properties defined here:\n",
      " |\n",
      " |  cd\n",
      " |      Read terminal status line: Carrier Detect\n",
      " |\n",
      " |  cts\n",
      " |      Read terminal status line: Clear To Send\n",
      " |\n",
      " |  dsr\n",
      " |      Read terminal status line: Data Set Ready\n",
      " |\n",
      " |  in_waiting\n",
      " |      Return the number of bytes currently in the input buffer.\n",
      " |\n",
      " |  out_waiting\n",
      " |      Return how many bytes the in the outgoing buffer\n",
      " |\n",
      " |  ri\n",
      " |      Read terminal status line: Ring Indicator\n",
      " |\n",
      " |  ----------------------------------------------------------------------\n",
      " |  Data descriptors defined here:\n",
      " |\n",
      " |  exclusive\n",
      " |      Get the current exclusive access setting.\n",
      " |\n",
      " |  ----------------------------------------------------------------------\n",
      " |  Data and other attributes defined here:\n",
      " |\n",
      " |  BAUDRATES = (50, 75, 110, 134, 150, 200, 300, 600, 1200, 1800, 2400, 4...\n",
      " |\n",
      " |  __abstractmethods__ = frozenset()\n",
      " |\n",
      " |  ----------------------------------------------------------------------\n",
      " |  Methods inherited from serial.serialutil.SerialBase:\n",
      " |\n",
      " |  __enter__(self)\n",
      " |\n",
      " |  __exit__(self, *args, **kwargs)\n",
      " |\n",
      " |  __repr__(self)\n",
      " |      String representation of the current port settings and its state.\n",
      " |\n",
      " |  applySettingsDict(self, d)\n",
      " |\n",
      " |  apply_settings(self, d)\n",
      " |      Apply stored settings from a dictionary returned from\n",
      " |      get_settings(). It's allowed to delete keys from the dictionary. These\n",
      " |      values will simply left unchanged.\n",
      " |\n",
      " |  flushInput(self)\n",
      " |\n",
      " |  flushOutput(self)\n",
      " |\n",
      " |  getCD(self)\n",
      " |\n",
      " |  getCTS(self)\n",
      " |\n",
      " |  getDSR(self)\n",
      " |\n",
      " |  getRI(self)\n",
      " |\n",
      " |  getSettingsDict(self)\n",
      " |\n",
      " |  get_settings(self)\n",
      " |      Get current port settings as a dictionary. For use with\n",
      " |      apply_settings().\n",
      " |\n",
      " |  inWaiting(self)\n",
      " |\n",
      " |  iread_until(self, *args, **kwargs)\n",
      " |      Read lines, implemented as generator. It will raise StopIteration on\n",
      " |      timeout (empty read).\n",
      " |\n",
      " |  isOpen(self)\n",
      " |\n",
      " |  read_all(self)\n",
      " |      Read all bytes currently available in the buffer of the OS.\n",
      " |\n",
      " |  read_until(self, expected=b'\\n', size=None)\n",
      " |      Read until an expected sequence is found ('\n",
      " |      ' by default), the size\n",
      " |              is exceeded or until timeout occurs.\n",
      " |\n",
      " |  readable(self)\n",
      " |      Return whether object was opened for reading.\n",
      " |\n",
      " |      If False, read() will raise OSError.\n",
      " |\n",
      " |  readinto(self, b)\n",
      " |\n",
      " |  seekable(self)\n",
      " |      Return whether object supports random access.\n",
      " |\n",
      " |      If False, seek(), tell() and truncate() will raise OSError.\n",
      " |      This method may need to do a test seek().\n",
      " |\n",
      " |  sendBreak(self, duration=0.25)\n",
      " |\n",
      " |  send_break(self, duration=0.25)\n",
      " |      Send break condition. Timed, returns to idle state after given\n",
      " |      duration.\n",
      " |\n",
      " |  setDTR(self, value=1)\n",
      " |\n",
      " |  setPort(self, port)\n",
      " |\n",
      " |  setRTS(self, value=1)\n",
      " |\n",
      " |  writable(self)\n",
      " |      Return whether object was opened for writing.\n",
      " |\n",
      " |      If False, write() will raise OSError.\n",
      " |\n",
      " |  ----------------------------------------------------------------------\n",
      " |  Data descriptors inherited from serial.serialutil.SerialBase:\n",
      " |\n",
      " |  baudrate\n",
      " |      Get the current baud rate setting.\n",
      " |\n",
      " |  break_condition\n",
      " |\n",
      " |  bytesize\n",
      " |      Get the current byte size setting.\n",
      " |\n",
      " |  dsrdtr\n",
      " |      Get the current DSR/DTR flow control setting.\n",
      " |\n",
      " |  dtr\n",
      " |\n",
      " |  interCharTimeout\n",
      " |\n",
      " |  inter_byte_timeout\n",
      " |      Get the current inter-character timeout setting.\n",
      " |\n",
      " |  parity\n",
      " |      Get the current parity setting.\n",
      " |\n",
      " |  port\n",
      " |      Get the current port setting. The value that was passed on init or using\n",
      " |      setPort() is passed back.\n",
      " |\n",
      " |  rs485_mode\n",
      " |      Enable RS485 mode and apply new settings, set to None to disable.\n",
      " |      See serial.rs485.RS485Settings for more info about the value.\n",
      " |\n",
      " |  rts\n",
      " |\n",
      " |  rtscts\n",
      " |      Get the current RTS/CTS flow control setting.\n",
      " |\n",
      " |  stopbits\n",
      " |      Get the current stop bits setting.\n",
      " |\n",
      " |  timeout\n",
      " |      Get the current timeout setting.\n",
      " |\n",
      " |  writeTimeout\n",
      " |\n",
      " |  write_timeout\n",
      " |      Get the current timeout setting.\n",
      " |\n",
      " |  xonxoff\n",
      " |      Get the current XON/XOFF setting.\n",
      " |\n",
      " |  ----------------------------------------------------------------------\n",
      " |  Data and other attributes inherited from serial.serialutil.SerialBase:\n",
      " |\n",
      " |  BYTESIZES = (5, 6, 7, 8)\n",
      " |\n",
      " |  PARITIES = ('N', 'E', 'O', 'M', 'S')\n",
      " |\n",
      " |  STOPBITS = (1, 1.5, 2)\n",
      " |\n",
      " |  ----------------------------------------------------------------------\n",
      " |  Methods inherited from _io._RawIOBase:\n",
      " |\n",
      " |  readall(self, /)\n",
      " |      Read until EOF, using multiple read() call.\n",
      " |\n",
      " |  ----------------------------------------------------------------------\n",
      " |  Methods inherited from _io._IOBase:\n",
      " |\n",
      " |  __del__(...)\n",
      " |\n",
      " |  __iter__(self, /)\n",
      " |      Implement iter(self).\n",
      " |\n",
      " |  __next__(self, /)\n",
      " |      Implement next(self).\n",
      " |\n",
      " |  fileno(self, /)\n",
      " |      Return underlying file descriptor if one exists.\n",
      " |\n",
      " |      Raise OSError if the IO object does not use a file descriptor.\n",
      " |\n",
      " |  isatty(self, /)\n",
      " |      Return whether this is an 'interactive' stream.\n",
      " |\n",
      " |      Return False if it can't be determined.\n",
      " |\n",
      " |  readline(self, size=-1, /)\n",
      " |      Read and return a line from the stream.\n",
      " |\n",
      " |      If size is specified, at most size bytes will be read.\n",
      " |\n",
      " |      The line terminator is always b'\\n' for binary files; for text\n",
      " |      files, the newlines argument to open can be used to select the line\n",
      " |      terminator(s) recognized.\n",
      " |\n",
      " |  readlines(self, hint=-1, /)\n",
      " |      Return a list of lines from the stream.\n",
      " |\n",
      " |      hint can be specified to control the number of lines read: no more\n",
      " |      lines will be read if the total size (in bytes/characters) of all\n",
      " |      lines so far exceeds hint.\n",
      " |\n",
      " |  seek(self, offset, whence=0, /)\n",
      " |      Change the stream position to the given byte offset.\n",
      " |\n",
      " |        offset\n",
      " |          The stream position, relative to 'whence'.\n",
      " |        whence\n",
      " |          The relative position to seek from.\n",
      " |\n",
      " |      The offset is interpreted relative to the position indicated by whence.\n",
      " |      Values for whence are:\n",
      " |\n",
      " |      * os.SEEK_SET or 0 -- start of stream (the default); offset should be zero or positive\n",
      " |      * os.SEEK_CUR or 1 -- current stream position; offset may be negative\n",
      " |      * os.SEEK_END or 2 -- end of stream; offset is usually negative\n",
      " |\n",
      " |      Return the new absolute position.\n",
      " |\n",
      " |  tell(self, /)\n",
      " |      Return current stream position.\n",
      " |\n",
      " |  truncate(self, size=None, /)\n",
      " |      Truncate file to size bytes.\n",
      " |\n",
      " |      File pointer is left unchanged. Size defaults to the current IO position\n",
      " |      as reported by tell(). Return the new size.\n",
      " |\n",
      " |  writelines(self, lines, /)\n",
      " |      Write a list of lines to stream.\n",
      " |\n",
      " |      Line separators are not added, so it is usual for each of the\n",
      " |      lines provided to have a line separator at the end.\n",
      " |\n",
      " |  ----------------------------------------------------------------------\n",
      " |  Data descriptors inherited from _io._IOBase:\n",
      " |\n",
      " |  __dict__\n",
      " |\n",
      " |  closed\n",
      "\n"
     ]
    }
   ],
   "source": [
    "help(Serial)"
   ]
  },
  {
   "cell_type": "code",
   "execution_count": 5,
   "id": "53aa2cc1-b6a8-4f7e-b484-71dc075c1c59",
   "metadata": {},
   "outputs": [],
   "source": [
    "ard = Serial('COM4', 9600); # Serial 클래스의 인스턴수(변수)를 저장; Arduino IDE의 시리얼 모니터 실행과 같은 효과\n",
    "# 'COM4': Arduino가 연결된 USB 포트의 시리얼 통신 이름(문자열)\n",
    "# 9600: 시리얼 통신의 연결 속도(Arduino의 연결 속도(Serial.begin(9600))와 같아야 함)"
   ]
  },
  {
   "cell_type": "code",
   "execution_count": 6,
   "id": "c2d7f067-070e-495a-9853-98e5ef80f527",
   "metadata": {},
   "outputs": [
    {
     "data": {
      "text/plain": [
       "10"
      ]
     },
     "execution_count": 6,
     "metadata": {},
     "output_type": "execute_result"
    }
   ],
   "source": [
    "sCmd = 'get volt \\n' # 파이썬 문자열: 유니코드(Unicode)\n",
    "btCmd = sCmd.encode() # encode(): 유니코드를 바이트 코드로 인코딩\n",
    "ard.write(btCmd) # ASCII 코드: 바이트(byte) 코드; write()의 출력은 출력한 바이트 수"
   ]
  },
  {
   "cell_type": "code",
   "execution_count": 8,
   "id": "63e0b0a5-2c8f-41d5-9acd-257ef7f587d6",
   "metadata": {},
   "outputs": [
    {
     "name": "stdout",
     "output_type": "stream",
     "text": [
      "14\n"
     ]
    }
   ],
   "source": [
    "nRead = ard.in_waiting # in_waiting: Serial로 읽을 수 있는 바이트 수\n",
    "print(nRead)"
   ]
  },
  {
   "cell_type": "code",
   "execution_count": 9,
   "id": "22911e51-b8d5-4dfb-9581-c456bfbc2dad",
   "metadata": {},
   "outputs": [],
   "source": [
    "if nRead > 0:\n",
    "    btRead = ard.read(nRead) # read(): Serial로부터 nRead 바이트만큼 읽기; 읽은 문자열은 바이트 코드로 저장\n",
    "    sRead = btRead.decode()"
   ]
  },
  {
   "cell_type": "code",
   "execution_count": 10,
   "id": "6a420d5d-a621-461b-9ae1-70daab5e0bd0",
   "metadata": {},
   "outputs": [
    {
     "name": "stdout",
     "output_type": "stream",
     "text": [
      "3.3479960000\n",
      "\n"
     ]
    }
   ],
   "source": [
    "print(sRead)"
   ]
  },
  {
   "cell_type": "code",
   "execution_count": 11,
   "id": "029582f4-c0e3-4a6d-a8ef-abf8d76540a1",
   "metadata": {},
   "outputs": [
    {
     "name": "stdout",
     "output_type": "stream",
     "text": [
      "3.347996\n"
     ]
    }
   ],
   "source": [
    "volt = float(sRead)\n",
    "print(volt)"
   ]
  },
  {
   "cell_type": "code",
   "execution_count": 12,
   "id": "cdd1493b-6e7a-428a-97f0-17d04e9bbd3b",
   "metadata": {},
   "outputs": [
    {
     "data": {
      "text/plain": [
       "str"
      ]
     },
     "execution_count": 12,
     "metadata": {},
     "output_type": "execute_result"
    }
   ],
   "source": [
    "type(sRead)"
   ]
  },
  {
   "cell_type": "code",
   "execution_count": 13,
   "id": "99992f65-825e-40f9-8ad5-0a1aa6b6c0b9",
   "metadata": {},
   "outputs": [
    {
     "data": {
      "text/plain": [
       "float"
      ]
     },
     "execution_count": 13,
     "metadata": {},
     "output_type": "execute_result"
    }
   ],
   "source": [
    "type(volt)"
   ]
  },
  {
   "cell_type": "code",
   "execution_count": 14,
   "id": "5ce13565-e259-4f3c-abe2-3d59347fcc9b",
   "metadata": {
    "scrolled": true
   },
   "outputs": [
    {
     "data": {
      "text/plain": [
       "bytes"
      ]
     },
     "execution_count": 14,
     "metadata": {},
     "output_type": "execute_result"
    }
   ],
   "source": [
    "type(btRead)"
   ]
  },
  {
   "cell_type": "code",
   "execution_count": 15,
   "id": "0074f177-9854-408f-bbc1-b2d383914ddc",
   "metadata": {},
   "outputs": [],
   "source": [
    "def writeSerial(sCmd): # indent 맞추기: Ctrl+[, Ctrl+]\n",
    "    btCmd = sCmd.encode()\n",
    "    nWrite = ard.write(btCmd)\n",
    "    ard.flush() # 입력한 바이트를 모두 출력할 때까지 대기\n",
    "    return nWrite"
   ]
  },
  {
   "cell_type": "code",
   "execution_count": 16,
   "id": "4d7caf57-9da8-4e9c-aa77-193398d7198c",
   "metadata": {},
   "outputs": [
    {
     "data": {
      "text/plain": [
       "9"
      ]
     },
     "execution_count": 16,
     "metadata": {},
     "output_type": "execute_result"
    }
   ],
   "source": [
    "writeSerial('get volt\\n')"
   ]
  },
  {
   "cell_type": "code",
   "execution_count": 17,
   "id": "965eccea-df38-41be-8e98-649dc1255c72",
   "metadata": {},
   "outputs": [],
   "source": [
    "def readSerial():\n",
    "    nRead = ard.in_waiting\n",
    "    if nRead > 0:\n",
    "        btRead = ard.read(nRead)\n",
    "        sRead = btRead.decode()\n",
    "        return sRead\n",
    "    else: return '' # 읽을 바이트가 없으면 공백 문자열 반환"
   ]
  },
  {
   "cell_type": "code",
   "execution_count": 18,
   "id": "191e9334-5f13-4e23-a66c-e4f423a45284",
   "metadata": {
    "scrolled": true
   },
   "outputs": [
    {
     "data": {
      "text/plain": [
       "'3.3479960000\\r\\n'"
      ]
     },
     "execution_count": 18,
     "metadata": {},
     "output_type": "execute_result"
    }
   ],
   "source": [
    "readSerial()"
   ]
  },
  {
   "cell_type": "code",
   "execution_count": 19,
   "id": "5df558b8-c52e-4227-abd0-1b9c75310b16",
   "metadata": {},
   "outputs": [],
   "source": [
    "def talk(sCmd):\n",
    "    writeSerial(sCmd + '\\n') # 명령어 sCmd에 엔터를 자동 추가"
   ]
  },
  {
   "cell_type": "code",
   "execution_count": 21,
   "id": "ab12d124-a8cc-4ac5-91c8-841437c11010",
   "metadata": {},
   "outputs": [],
   "source": [
    "def listen():\n",
    "    sRead = readSerial()\n",
    "    return sRead.strip() # 양쪽의 공백 문자를 제거한 문자열을 반환"
   ]
  },
  {
   "cell_type": "code",
   "execution_count": 23,
   "id": "f73daf2f-ad36-4d57-9a79-7eb072a90a9a",
   "metadata": {},
   "outputs": [],
   "source": [
    "talk('get volt')"
   ]
  },
  {
   "cell_type": "code",
   "execution_count": 26,
   "id": "efff731c-c1af-4801-a94c-f73c6dc3e43d",
   "metadata": {},
   "outputs": [
    {
     "data": {
      "text/plain": [
       "'ambient'"
      ]
     },
     "execution_count": 26,
     "metadata": {},
     "output_type": "execute_result"
    }
   ],
   "source": [
    "listen()"
   ]
  },
  {
   "cell_type": "code",
   "execution_count": 25,
   "id": "0ed7d1d9-26c2-49f4-b764-9321e3149f8b",
   "metadata": {},
   "outputs": [],
   "source": [
    "talk('get light')"
   ]
  },
  {
   "cell_type": "code",
   "execution_count": 27,
   "id": "0a4cfd7e-79ed-446f-af48-5b486485a815",
   "metadata": {},
   "outputs": [],
   "source": [
    "talk('set servo 0')"
   ]
  },
  {
   "cell_type": "code",
   "execution_count": 29,
   "id": "41dcee7e-1115-47c7-ab87-4ab7a168dece",
   "metadata": {},
   "outputs": [],
   "source": [
    "talk('set led blue')"
   ]
  },
  {
   "cell_type": "code",
   "execution_count": 30,
   "id": "cb7f9eeb-fe49-49d4-a1cc-fafa39dd321c",
   "metadata": {},
   "outputs": [],
   "source": [
    "talk('set led black')"
   ]
  },
  {
   "cell_type": "code",
   "execution_count": 31,
   "id": "678930db-cbdd-4054-bb3d-9daa75c203a5",
   "metadata": {},
   "outputs": [],
   "source": [
    "talk('set buzzer re 3000')"
   ]
  },
  {
   "cell_type": "code",
   "execution_count": null,
   "id": "26a2b79d-690e-4ef9-875c-66594d1e413a",
   "metadata": {},
   "outputs": [],
   "source": []
  }
 ],
 "metadata": {
  "kernelspec": {
   "display_name": "Python 3 (ipykernel)",
   "language": "python",
   "name": "python3"
  },
  "language_info": {
   "codemirror_mode": {
    "name": "ipython",
    "version": 3
   },
   "file_extension": ".py",
   "mimetype": "text/x-python",
   "name": "python",
   "nbconvert_exporter": "python",
   "pygments_lexer": "ipython3",
   "version": "3.12.0"
  }
 },
 "nbformat": 4,
 "nbformat_minor": 5
}
