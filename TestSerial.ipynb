{
 "cells": [
  {
   "cell_type": "code",
   "execution_count": 1,
   "id": "eee3238d-eb0c-4162-962a-49e1ba653bae",
   "metadata": {},
   "outputs": [],
   "source": [
    "from serial import Serial # serial 모듈에서 Serial 클래스를 수입; C++의 include 역할"
   ]
  },
  {
   "cell_type": "code",
   "execution_count": 2,
   "id": "c4a44fa4-65cd-40b1-aa84-480cde5e2ecc",
   "metadata": {},
   "outputs": [
    {
     "data": {
      "text/plain": [
       "abc.ABCMeta"
      ]
     },
     "execution_count": 2,
     "metadata": {},
     "output_type": "execute_result"
    }
   ],
   "source": [
    "# 핵심 파이썬 명령어: print() -> 객체 출력, type() -> 객체 자료형 확인, help() -> 도움말\n",
    "type(Serial)"
   ]
  },
  {
   "cell_type": "code",
   "execution_count": 2,
   "id": "53aa2cc1-b6a8-4f7e-b484-71dc075c1c59",
   "metadata": {},
   "outputs": [],
   "source": [
    "ard = Serial('COM4', 9600) # Serial 클래스의 인스턴수(변수)를 저장; Arduino IDE의 시리얼 모니터 실행과 같은 효과\n",
    "# 'COM4': Arduino가 연결된 USB 포트의 시리얼 통신 이름(문자열)\n",
    "# 9600: 시리얼 통신의 연결 속도(Arduino의 연결 속도(Serial.begin(9600))와 같아야 함)"
   ]
  },
  {
   "cell_type": "code",
   "execution_count": 6,
   "id": "c2d7f067-070e-495a-9853-98e5ef80f527",
   "metadata": {},
   "outputs": [
    {
     "data": {
      "text/plain": [
       "10"
      ]
     },
     "execution_count": 6,
     "metadata": {},
     "output_type": "execute_result"
    }
   ],
   "source": [
    "sCmd = 'get volt \\n' # 파이썬 문자열: 유니코드(Unicode)\n",
    "btCmd = sCmd.encode() # encode(): 유니코드를 바이트 코드로 인코딩\n",
    "ard.write(btCmd) # ASCII 코드: 바이트(byte) 코드; write()의 출력은 출력한 바이트 수"
   ]
  },
  {
   "cell_type": "code",
   "execution_count": 8,
   "id": "63e0b0a5-2c8f-41d5-9acd-257ef7f587d6",
   "metadata": {},
   "outputs": [
    {
     "name": "stdout",
     "output_type": "stream",
     "text": [
      "14\n"
     ]
    }
   ],
   "source": [
    "nRead = ard.in_waiting # in_waiting: Serial로 읽을 수 있는 바이트 수\n",
    "print(nRead)"
   ]
  },
  {
   "cell_type": "code",
   "execution_count": 9,
   "id": "22911e51-b8d5-4dfb-9581-c456bfbc2dad",
   "metadata": {},
   "outputs": [],
   "source": [
    "if nRead > 0:\n",
    "    btRead = ard.read(nRead) # read(): Serial로부터 nRead 바이트만큼 읽기; 읽은 문자열은 바이트 코드로 저장\n",
    "    sRead = btRead.decode()"
   ]
  },
  {
   "cell_type": "code",
   "execution_count": 10,
   "id": "6a420d5d-a621-461b-9ae1-70daab5e0bd0",
   "metadata": {},
   "outputs": [
    {
     "name": "stdout",
     "output_type": "stream",
     "text": [
      "3.3479960000\n",
      "\n"
     ]
    }
   ],
   "source": [
    "print(sRead)"
   ]
  },
  {
   "cell_type": "code",
   "execution_count": 11,
   "id": "029582f4-c0e3-4a6d-a8ef-abf8d76540a1",
   "metadata": {},
   "outputs": [
    {
     "name": "stdout",
     "output_type": "stream",
     "text": [
      "3.347996\n"
     ]
    }
   ],
   "source": [
    "volt = float(sRead)\n",
    "print(volt)"
   ]
  },
  {
   "cell_type": "code",
   "execution_count": 12,
   "id": "cdd1493b-6e7a-428a-97f0-17d04e9bbd3b",
   "metadata": {},
   "outputs": [
    {
     "data": {
      "text/plain": [
       "str"
      ]
     },
     "execution_count": 12,
     "metadata": {},
     "output_type": "execute_result"
    }
   ],
   "source": [
    "type(sRead)"
   ]
  },
  {
   "cell_type": "code",
   "execution_count": 13,
   "id": "99992f65-825e-40f9-8ad5-0a1aa6b6c0b9",
   "metadata": {},
   "outputs": [
    {
     "data": {
      "text/plain": [
       "float"
      ]
     },
     "execution_count": 13,
     "metadata": {},
     "output_type": "execute_result"
    }
   ],
   "source": [
    "type(volt)"
   ]
  },
  {
   "cell_type": "code",
   "execution_count": 14,
   "id": "5ce13565-e259-4f3c-abe2-3d59347fcc9b",
   "metadata": {
    "scrolled": true
   },
   "outputs": [
    {
     "data": {
      "text/plain": [
       "bytes"
      ]
     },
     "execution_count": 14,
     "metadata": {},
     "output_type": "execute_result"
    }
   ],
   "source": [
    "type(btRead)"
   ]
  },
  {
   "cell_type": "code",
   "execution_count": 3,
   "id": "0074f177-9854-408f-bbc1-b2d383914ddc",
   "metadata": {},
   "outputs": [],
   "source": [
    "def writeSerial(sCmd): # indent 맞추기: Ctrl+[, Ctrl+]\n",
    "    btCmd = sCmd.encode()\n",
    "    nWrite = ard.write(btCmd)\n",
    "    ard.flush() # 입력한 바이트를 모두 출력할 때까지 대기\n",
    "    return nWrite"
   ]
  },
  {
   "cell_type": "code",
   "execution_count": 16,
   "id": "4d7caf57-9da8-4e9c-aa77-193398d7198c",
   "metadata": {},
   "outputs": [
    {
     "data": {
      "text/plain": [
       "9"
      ]
     },
     "execution_count": 16,
     "metadata": {},
     "output_type": "execute_result"
    }
   ],
   "source": [
    "writeSerial('get volt\\n')"
   ]
  },
  {
   "cell_type": "code",
   "execution_count": 4,
   "id": "965eccea-df38-41be-8e98-649dc1255c72",
   "metadata": {},
   "outputs": [],
   "source": [
    "def readSerial():\n",
    "    nRead = ard.in_waiting\n",
    "    if nRead > 0:\n",
    "        btRead = ard.read(nRead)\n",
    "        sRead = btRead.decode()\n",
    "        return sRead\n",
    "    else: return '' # 읽을 바이트가 없으면 공백 문자열 반환"
   ]
  },
  {
   "cell_type": "code",
   "execution_count": 18,
   "id": "191e9334-5f13-4e23-a66c-e4f423a45284",
   "metadata": {
    "scrolled": true
   },
   "outputs": [
    {
     "data": {
      "text/plain": [
       "'3.3479960000\\r\\n'"
      ]
     },
     "execution_count": 18,
     "metadata": {},
     "output_type": "execute_result"
    }
   ],
   "source": [
    "readSerial()"
   ]
  },
  {
   "cell_type": "code",
   "execution_count": 5,
   "id": "5df558b8-c52e-4227-abd0-1b9c75310b16",
   "metadata": {},
   "outputs": [],
   "source": [
    "def talk(sCmd):\n",
    "    writeSerial(sCmd + '\\n') # 명령어 sCmd에 엔터를 자동 추가"
   ]
  },
  {
   "cell_type": "code",
   "execution_count": 6,
   "id": "ab12d124-a8cc-4ac5-91c8-841437c11010",
   "metadata": {},
   "outputs": [],
   "source": [
    "def listen():\n",
    "    sRead = readSerial()\n",
    "    return sRead.strip() # 양쪽의 공백 문자를 제거한 문자열을 반환"
   ]
  },
  {
   "cell_type": "code",
   "execution_count": 7,
   "id": "f73daf2f-ad36-4d57-9a79-7eb072a90a9a",
   "metadata": {},
   "outputs": [],
   "source": [
    "talk('get volt')"
   ]
  },
  {
   "cell_type": "code",
   "execution_count": 10,
   "id": "efff731c-c1af-4801-a94c-f73c6dc3e43d",
   "metadata": {},
   "outputs": [
    {
     "data": {
      "text/plain": [
       "'ambient'"
      ]
     },
     "execution_count": 10,
     "metadata": {},
     "output_type": "execute_result"
    }
   ],
   "source": [
    "listen()"
   ]
  },
  {
   "cell_type": "code",
   "execution_count": 9,
   "id": "0ed7d1d9-26c2-49f4-b764-9321e3149f8b",
   "metadata": {},
   "outputs": [],
   "source": [
    "talk('get light')"
   ]
  },
  {
   "cell_type": "code",
   "execution_count": 12,
   "id": "0a4cfd7e-79ed-446f-af48-5b486485a815",
   "metadata": {},
   "outputs": [],
   "source": [
    "talk('set servo 180')"
   ]
  },
  {
   "cell_type": "code",
   "execution_count": 13,
   "id": "41dcee7e-1115-47c7-ab87-4ab7a168dece",
   "metadata": {},
   "outputs": [],
   "source": [
    "talk('set led blue')"
   ]
  },
  {
   "cell_type": "code",
   "execution_count": 14,
   "id": "cb7f9eeb-fe49-49d4-a1cc-fafa39dd321c",
   "metadata": {},
   "outputs": [],
   "source": [
    "talk('set led black')"
   ]
  },
  {
   "cell_type": "code",
   "execution_count": 15,
   "id": "678930db-cbdd-4054-bb3d-9daa75c203a5",
   "metadata": {},
   "outputs": [],
   "source": [
    "talk('set buzzer re 3000')"
   ]
  },
  {
   "cell_type": "code",
   "execution_count": null,
   "id": "26a2b79d-690e-4ef9-875c-66594d1e413a",
   "metadata": {},
   "outputs": [],
   "source": []
  },
  {
   "cell_type": "code",
   "execution_count": null,
   "id": "4e29c37f-90e1-4a5a-bc30-becc2768f0be",
   "metadata": {},
   "outputs": [],
   "source": []
  }
 ],
 "metadata": {
  "kernelspec": {
   "display_name": "Python 3 (ipykernel)",
   "language": "python",
   "name": "python3"
  },
  "language_info": {
   "codemirror_mode": {
    "name": "ipython",
    "version": 3
   },
   "file_extension": ".py",
   "mimetype": "text/x-python",
   "name": "python",
   "nbconvert_exporter": "python",
   "pygments_lexer": "ipython3",
   "version": "3.12.0"
  }
 },
 "nbformat": 4,
 "nbformat_minor": 5
}
