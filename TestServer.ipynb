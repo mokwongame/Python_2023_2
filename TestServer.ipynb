{
 "cells": [
  {
   "cell_type": "code",
   "execution_count": 1,
   "id": "88b754fe-a806-4ee2-bd6d-41d5c974b016",
   "metadata": {},
   "outputs": [],
   "source": [
    "from http.server import HTTPServer"
   ]
  },
  {
   "cell_type": "code",
   "execution_count": 2,
   "id": "5ab7997b-92a8-4fd1-b9c9-21382daaeea8",
   "metadata": {},
   "outputs": [],
   "source": [
    "# 웹서버(서버) <-> 웹브라우저(클라이언트)\n",
    "webServer = HTTPServer(('localhost', 8080), None) # 서버 인스턴스 생성: host='localhost', port=8080, reqeustHandler=None"
   ]
  },
  {
   "cell_type": "code",
   "execution_count": null,
   "id": "e534fe0a-c3fb-424a-a959-735a3ca34280",
   "metadata": {},
   "outputs": [],
   "source": [
    "print(f'My web server started at http://localhost:8080')\n",
    "webServer.serve_forever()"
   ]
  },
  {
   "cell_type": "code",
   "execution_count": null,
   "id": "3b3b7579-03d4-418b-a781-ccb9723fac41",
   "metadata": {},
   "outputs": [],
   "source": []
  }
 ],
 "metadata": {
  "kernelspec": {
   "display_name": "Python 3 (ipykernel)",
   "language": "python",
   "name": "python3"
  },
  "language_info": {
   "codemirror_mode": {
    "name": "ipython",
    "version": 3
   },
   "file_extension": ".py",
   "mimetype": "text/x-python",
   "name": "python",
   "nbconvert_exporter": "python",
   "pygments_lexer": "ipython3",
   "version": "3.12.0"
  }
 },
 "nbformat": 4,
 "nbformat_minor": 5
}
