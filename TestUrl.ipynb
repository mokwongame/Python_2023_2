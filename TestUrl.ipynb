{
 "cells": [
  {
   "cell_type": "code",
   "execution_count": 1,
   "id": "4f1f996f-79fe-415e-a950-dcb5f0a9b1f0",
   "metadata": {},
   "outputs": [],
   "source": [
    "from urllib import parse"
   ]
  },
  {
   "cell_type": "code",
   "execution_count": 3,
   "id": "bc9dd8ae-6cde-4c97-83cd-e6e626661742",
   "metadata": {},
   "outputs": [],
   "source": [
    "url = '/sample_volt?count=10&delay=1.5'"
   ]
  },
  {
   "cell_type": "code",
   "execution_count": 4,
   "id": "65b1bc43-1185-4c46-b478-6ec1b455552c",
   "metadata": {},
   "outputs": [
    {
     "name": "stdout",
     "output_type": "stream",
     "text": [
      "SplitResult(scheme='', netloc='', path='/sample_volt', query='count=10&delay=1.5', fragment='')\n"
     ]
    }
   ],
   "source": [
    "result = parse.urlsplit(url)\n",
    "print(result)"
   ]
  },
  {
   "cell_type": "code",
   "execution_count": 5,
   "id": "26d8f4d2-be91-4d2c-9918-0a89fc8d9e93",
   "metadata": {},
   "outputs": [
    {
     "name": "stdout",
     "output_type": "stream",
     "text": [
      "{'count': ['10'], 'delay': ['1.5']}\n"
     ]
    }
   ],
   "source": [
    "qdict = parse.parse_qs(result.query)\n",
    "print(qdict)"
   ]
  },
  {
   "cell_type": "code",
   "execution_count": 6,
   "id": "640a3af7-80dc-4eda-9bb0-3cb52134ac1f",
   "metadata": {},
   "outputs": [
    {
     "name": "stdout",
     "output_type": "stream",
     "text": [
      "10\n"
     ]
    }
   ],
   "source": [
    "nCount = int(qdict['count'][0])\n",
    "print(nCount)"
   ]
  },
  {
   "cell_type": "code",
   "execution_count": 7,
   "id": "a412dcaf-7ebd-42eb-84ca-ecc7a3b28be3",
   "metadata": {},
   "outputs": [
    {
     "name": "stdout",
     "output_type": "stream",
     "text": [
      "1.5\n"
     ]
    }
   ],
   "source": [
    "delay = float(qdict['delay'][0])\n",
    "print(delay)"
   ]
  },
  {
   "cell_type": "code",
   "execution_count": null,
   "id": "76f9f8f9-2f17-41ca-8562-ffe2702944fa",
   "metadata": {},
   "outputs": [],
   "source": []
  }
 ],
 "metadata": {
  "kernelspec": {
   "display_name": "Python 3 (ipykernel)",
   "language": "python",
   "name": "python3"
  },
  "language_info": {
   "codemirror_mode": {
    "name": "ipython",
    "version": 3
   },
   "file_extension": ".py",
   "mimetype": "text/x-python",
   "name": "python",
   "nbconvert_exporter": "python",
   "pygments_lexer": "ipython3",
   "version": "3.12.0"
  }
 },
 "nbformat": 4,
 "nbformat_minor": 5
}
