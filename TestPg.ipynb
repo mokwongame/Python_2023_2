{
 "cells": [
  {
   "cell_type": "code",
   "execution_count": 1,
   "id": "831d51f2-73f0-45e3-8bdc-1c5a380f0fec",
   "metadata": {},
   "outputs": [],
   "source": [
    "import psycopg2"
   ]
  },
  {
   "cell_type": "code",
   "execution_count": 3,
   "id": "f8dea050-63c1-4088-9c8f-6e3f4116f403",
   "metadata": {},
   "outputs": [
    {
     "name": "stdout",
     "output_type": "stream",
     "text": [
      "Help on function connect in module psycopg2:\n",
      "\n",
      "connect(dsn=None, connection_factory=None, cursor_factory=None, **kwargs)\n",
      "    Create a new database connection.\n",
      "\n",
      "    The connection parameters can be specified as a string:\n",
      "\n",
      "        conn = psycopg2.connect(\"dbname=test user=postgres password=secret\")\n",
      "\n",
      "    or using a set of keyword arguments:\n",
      "\n",
      "        conn = psycopg2.connect(database=\"test\", user=\"postgres\", password=\"secret\")\n",
      "\n",
      "    Or as a mix of both. The basic connection parameters are:\n",
      "\n",
      "    - *dbname*: the database name\n",
      "    - *database*: the database name (only as keyword argument)\n",
      "    - *user*: user name used to authenticate\n",
      "    - *password*: password used to authenticate\n",
      "    - *host*: database host address (defaults to UNIX socket if not provided)\n",
      "    - *port*: connection port number (defaults to 5432 if not provided)\n",
      "\n",
      "    Using the *connection_factory* parameter a different class or connections\n",
      "    factory can be specified. It should be a callable object taking a dsn\n",
      "    argument.\n",
      "\n",
      "    Using the *cursor_factory* parameter, a new default cursor factory will be\n",
      "    used by cursor().\n",
      "\n",
      "    Using *async*=True an asynchronous connection will be created. *async_* is\n",
      "    a valid alias (for Python versions where ``async`` is a keyword).\n",
      "\n",
      "    Any other keyword parameter will be passed to the underlying client\n",
      "    library: the list of supported parameters depends on the library version.\n",
      "\n"
     ]
    }
   ],
   "source": [
    "help(psycopg2.connect)"
   ]
  },
  {
   "cell_type": "code",
   "execution_count": 6,
   "id": "3cc91caf-2385-410d-adf9-ed953e978b68",
   "metadata": {},
   "outputs": [],
   "source": [
    "conn = psycopg2.connect(host='localhost', database='postgres', user='postgres', password='2023', port='5432') # DB connection 얻기"
   ]
  },
  {
   "cell_type": "code",
   "execution_count": 7,
   "id": "d108f8dd-6e66-40af-8faf-79c10ef023cb",
   "metadata": {},
   "outputs": [],
   "source": [
    "cur = conn.cursor() # connection의 cursor(커서)"
   ]
  },
  {
   "cell_type": "code",
   "execution_count": 15,
   "id": "57ef57a3-94fb-4d1f-864a-4d8078bd902f",
   "metadata": {},
   "outputs": [],
   "source": [
    "cur.execute('SELECT COUNT(*) FROM volt_table') # cursor에 명령어(SQL) 실행\n",
    "conn.commit() # connection에 기록하기 -> cursor 명령어를 DB가 실행"
   ]
  },
  {
   "cell_type": "code",
   "execution_count": 16,
   "id": "ce8ad591-6bf0-473e-8104-eb8965551b6f",
   "metadata": {},
   "outputs": [
    {
     "name": "stdout",
     "output_type": "stream",
     "text": [
      "1\n"
     ]
    }
   ],
   "source": [
    "result = cur.fetchone() # DB에서 실행한 결과를 cursor를 통해 튜플 하나(one) 획득(fetch)\n",
    "nCount = result[0]\n",
    "print(nCount)"
   ]
  },
  {
   "cell_type": "code",
   "execution_count": 17,
   "id": "3f35c33e-d755-4358-9f92-ab5d3b5c0bf2",
   "metadata": {},
   "outputs": [],
   "source": [
    "# DB를 다 쓰고 나면 cursor와 connection 닫기\n",
    "cur.close()\n",
    "conn.close()"
   ]
  },
  {
   "cell_type": "code",
   "execution_count": null,
   "id": "fd718661-f13e-471e-b59e-56371427edbe",
   "metadata": {},
   "outputs": [],
   "source": []
  }
 ],
 "metadata": {
  "kernelspec": {
   "display_name": "Python 3 (ipykernel)",
   "language": "python",
   "name": "python3"
  },
  "language_info": {
   "codemirror_mode": {
    "name": "ipython",
    "version": 3
   },
   "file_extension": ".py",
   "mimetype": "text/x-python",
   "name": "python",
   "nbconvert_exporter": "python",
   "pygments_lexer": "ipython3",
   "version": "3.12.0"
  }
 },
 "nbformat": 4,
 "nbformat_minor": 5
}
