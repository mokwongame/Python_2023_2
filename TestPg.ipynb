{
 "cells": [
  {
   "cell_type": "code",
   "execution_count": 1,
   "id": "831d51f2-73f0-45e3-8bdc-1c5a380f0fec",
   "metadata": {},
   "outputs": [],
   "source": [
    "import psycopg2"
   ]
  },
  {
   "cell_type": "code",
   "execution_count": 3,
   "id": "f8dea050-63c1-4088-9c8f-6e3f4116f403",
   "metadata": {},
   "outputs": [
    {
     "name": "stdout",
     "output_type": "stream",
     "text": [
      "Help on function connect in module psycopg2:\n",
      "\n",
      "connect(dsn=None, connection_factory=None, cursor_factory=None, **kwargs)\n",
      "    Create a new database connection.\n",
      "\n",
      "    The connection parameters can be specified as a string:\n",
      "\n",
      "        conn = psycopg2.connect(\"dbname=test user=postgres password=secret\")\n",
      "\n",
      "    or using a set of keyword arguments:\n",
      "\n",
      "        conn = psycopg2.connect(database=\"test\", user=\"postgres\", password=\"secret\")\n",
      "\n",
      "    Or as a mix of both. The basic connection parameters are:\n",
      "\n",
      "    - *dbname*: the database name\n",
      "    - *database*: the database name (only as keyword argument)\n",
      "    - *user*: user name used to authenticate\n",
      "    - *password*: password used to authenticate\n",
      "    - *host*: database host address (defaults to UNIX socket if not provided)\n",
      "    - *port*: connection port number (defaults to 5432 if not provided)\n",
      "\n",
      "    Using the *connection_factory* parameter a different class or connections\n",
      "    factory can be specified. It should be a callable object taking a dsn\n",
      "    argument.\n",
      "\n",
      "    Using the *cursor_factory* parameter, a new default cursor factory will be\n",
      "    used by cursor().\n",
      "\n",
      "    Using *async*=True an asynchronous connection will be created. *async_* is\n",
      "    a valid alias (for Python versions where ``async`` is a keyword).\n",
      "\n",
      "    Any other keyword parameter will be passed to the underlying client\n",
      "    library: the list of supported parameters depends on the library version.\n",
      "\n"
     ]
    }
   ],
   "source": [
    "help(psycopg2.connect)"
   ]
  },
  {
   "cell_type": "code",
   "execution_count": 22,
   "id": "3cc91caf-2385-410d-adf9-ed953e978b68",
   "metadata": {},
   "outputs": [],
   "source": [
    "conn = psycopg2.connect(host='localhost', database='postgres', user='postgres', password='2023', port='5432') # DB connection 얻기\n",
    "cur = conn.cursor() # connection의 cursor(커서)"
   ]
  },
  {
   "cell_type": "code",
   "execution_count": 19,
   "id": "57ef57a3-94fb-4d1f-864a-4d8078bd902f",
   "metadata": {},
   "outputs": [],
   "source": [
    "# Table의 행 개수 얻기\n",
    "cur.execute('SELECT COUNT(*) FROM volt_table') # cursor에 명령어(SQL) 실행\n",
    "conn.commit() # connection에 기록하기 -> cursor 명령어를 DB가 실행"
   ]
  },
  {
   "cell_type": "code",
   "execution_count": 20,
   "id": "ce8ad591-6bf0-473e-8104-eb8965551b6f",
   "metadata": {},
   "outputs": [
    {
     "name": "stdout",
     "output_type": "stream",
     "text": [
      "2\n"
     ]
    }
   ],
   "source": [
    "result = cur.fetchone() # DB에서 실행한 결과를 cursor를 통해 튜플 하나(one) 획득(fetch)\n",
    "nCount = result[0]\n",
    "print(nCount)"
   ]
  },
  {
   "cell_type": "code",
   "execution_count": 21,
   "id": "3f35c33e-d755-4358-9f92-ab5d3b5c0bf2",
   "metadata": {},
   "outputs": [],
   "source": [
    "# DB를 다 쓰고 나면 cursor와 connection 닫기\n",
    "cur.close()\n",
    "conn.close()"
   ]
  },
  {
   "cell_type": "code",
   "execution_count": 27,
   "id": "fd718661-f13e-471e-b59e-56371427edbe",
   "metadata": {},
   "outputs": [],
   "source": [
    "# 각 column에 data 삽입\n",
    "measTime = int(time.time())\n",
    "volt = 3.7\n",
    "cur.execute(f'INSERT INTO volt_table(meas_time, volt) VALUES({measTime}, {volt})')\n",
    "conn.commit()"
   ]
  },
  {
   "cell_type": "code",
   "execution_count": 25,
   "id": "26a86a1f-c993-4f29-8f7e-ac5e60765375",
   "metadata": {},
   "outputs": [
    {
     "name": "stdout",
     "output_type": "stream",
     "text": [
      "1700030328\n"
     ]
    }
   ],
   "source": [
    "# 현재 시간 읽기\n",
    "import time\n",
    "nTime = int(time.time()) # 현재 에포크 타임(epoch time: 1970년 기점으로 측정한 시간)\n",
    "print(nTime)"
   ]
  },
  {
   "cell_type": "code",
   "execution_count": 28,
   "id": "aee4f899-8eec-4fdf-b751-71d53a9c13e2",
   "metadata": {},
   "outputs": [],
   "source": [
    "# 각 column의 data를 읽어오기\n",
    "cur.execute('SELECT meas_time, volt FROM volt_table') # SQL에 0번은 meas_time, 1번은 volt\n",
    "conn.commit()"
   ]
  },
  {
   "cell_type": "code",
   "execution_count": 29,
   "id": "b36a7088-91f0-4c5b-b010-8beb84f6182a",
   "metadata": {},
   "outputs": [
    {
     "name": "stdout",
     "output_type": "stream",
     "text": [
      "[(100, 3.3), (200, 5.0), (500, 3.4), (1700030377, 3.4), (1700030398, 3.7)]\n"
     ]
    }
   ],
   "source": [
    "# DB 실행 결과 전부(all)를 획득(fetch)\n",
    "result = cur.fetchall() # 튜플을 원소로 가진 리스트\n",
    "print(result)"
   ]
  },
  {
   "cell_type": "code",
   "execution_count": 30,
   "id": "42f5e596-9c9a-4c9e-852c-16e2317f7efe",
   "metadata": {},
   "outputs": [
    {
     "name": "stdout",
     "output_type": "stream",
     "text": [
      "100\n"
     ]
    }
   ],
   "source": [
    "measTime = result[0][0] # meas_time: 0번 row(튜플)의 0번 값(측정 시간)\n",
    "print(measTime)"
   ]
  },
  {
   "cell_type": "code",
   "execution_count": 31,
   "id": "9fdd4c75-a3e7-4c14-a380-f30e8481a226",
   "metadata": {},
   "outputs": [
    {
     "name": "stdout",
     "output_type": "stream",
     "text": [
      "3.3\n"
     ]
    }
   ],
   "source": [
    "volt = result[0][1] # meas_time: 0번 row(튜플)의 1번 값(전압)\n",
    "print(volt)"
   ]
  },
  {
   "cell_type": "code",
   "execution_count": 32,
   "id": "8b927c19-6363-4bdf-82c3-7e40af6c3e96",
   "metadata": {},
   "outputs": [],
   "source": [
    "# table의 모든 원소 자르기(삭제)\n",
    "cur.execute('TRUNCATE volt_table')\n",
    "conn.commit()"
   ]
  },
  {
   "cell_type": "code",
   "execution_count": null,
   "id": "4307e0fe-10fb-4821-80f5-652d315ea400",
   "metadata": {},
   "outputs": [],
   "source": []
  }
 ],
 "metadata": {
  "kernelspec": {
   "display_name": "Python 3 (ipykernel)",
   "language": "python",
   "name": "python3"
  },
  "language_info": {
   "codemirror_mode": {
    "name": "ipython",
    "version": 3
   },
   "file_extension": ".py",
   "mimetype": "text/x-python",
   "name": "python",
   "nbconvert_exporter": "python",
   "pygments_lexer": "ipython3",
   "version": "3.12.0"
  }
 },
 "nbformat": 4,
 "nbformat_minor": 5
}
