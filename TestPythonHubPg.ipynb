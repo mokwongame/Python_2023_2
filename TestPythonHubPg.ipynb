{
 "cells": [
  {
   "cell_type": "code",
   "execution_count": 1,
   "id": "399cfeb9-f6f9-4873-b644-d4ea3fb2639c",
   "metadata": {},
   "outputs": [],
   "source": [
    "from PythonHub import PythonHub\n",
    "pyHub = PythonHub()"
   ]
  },
  {
   "cell_type": "code",
   "execution_count": 2,
   "id": "ff5ee2d8-aa37-4ec8-aa2d-1af9c76af3c4",
   "metadata": {},
   "outputs": [
    {
     "data": {
      "text/plain": [
       "3.3528836"
      ]
     },
     "execution_count": 2,
     "metadata": {},
     "output_type": "execute_result"
    }
   ],
   "source": [
    "pyHub.getVolt()"
   ]
  },
  {
   "cell_type": "code",
   "execution_count": 3,
   "id": "c10fff8a-9fd3-465b-a510-d20a4a1524ba",
   "metadata": {},
   "outputs": [
    {
     "data": {
      "text/plain": [
       "0"
      ]
     },
     "execution_count": 3,
     "metadata": {},
     "output_type": "execute_result"
    }
   ],
   "source": [
    "pyHub.countVoltTable()"
   ]
  },
  {
   "cell_type": "code",
   "execution_count": null,
   "id": "d6d61615-ad6c-4d93-954f-22207b5d90d3",
   "metadata": {},
   "outputs": [],
   "source": []
  }
 ],
 "metadata": {
  "kernelspec": {
   "display_name": "Python 3 (ipykernel)",
   "language": "python",
   "name": "python3"
  },
  "language_info": {
   "codemirror_mode": {
    "name": "ipython",
    "version": 3
   },
   "file_extension": ".py",
   "mimetype": "text/x-python",
   "name": "python",
   "nbconvert_exporter": "python",
   "pygments_lexer": "ipython3",
   "version": "3.12.0"
  }
 },
 "nbformat": 4,
 "nbformat_minor": 5
}
