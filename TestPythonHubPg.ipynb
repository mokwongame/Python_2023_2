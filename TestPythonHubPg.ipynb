{
 "cells": [
  {
   "cell_type": "code",
   "execution_count": 1,
   "id": "399cfeb9-f6f9-4873-b644-d4ea3fb2639c",
   "metadata": {},
   "outputs": [],
   "source": [
    "from PythonHub import PythonHub\n",
    "pyHub = PythonHub()"
   ]
  },
  {
   "cell_type": "code",
   "execution_count": 2,
   "id": "0c941f73-7642-4ceb-888e-ec9c25c4861c",
   "metadata": {},
   "outputs": [
    {
     "name": "stdout",
     "output_type": "stream",
     "text": [
      "True\n",
      "True\n",
      "True\n",
      "True\n",
      "True\n",
      "True\n",
      "True\n",
      "True\n",
      "True\n",
      "True\n",
      "volt = 3.347996 @ time = Wed Nov 22 14:18:10 2023\n",
      "volt = 3.3431084 @ time = Wed Nov 22 14:18:11 2023\n",
      "volt = 3.3528836 @ time = Wed Nov 22 14:18:13 2023\n",
      "volt = 3.3577712 @ time = Wed Nov 22 14:18:14 2023\n",
      "volt = 3.3528836 @ time = Wed Nov 22 14:18:16 2023\n",
      "volt = 3.347996 @ time = Wed Nov 22 14:18:17 2023\n",
      "volt = 3.347996 @ time = Wed Nov 22 14:18:19 2023\n",
      "volt = 3.3528836 @ time = Wed Nov 22 14:18:20 2023\n",
      "volt = 3.347996 @ time = Wed Nov 22 14:18:22 2023\n",
      "volt = 3.3431084 @ time = Wed Nov 22 14:18:23 2023\n"
     ]
    }
   ],
   "source": [
    "pyHub.sampleVoltTuble(10, 1)\n",
    "pyHub.printVoltTuple()"
   ]
  },
  {
   "cell_type": "code",
   "execution_count": 3,
   "id": "381c39d8-a692-40a8-8718-9f9f44b1bae3",
   "metadata": {},
   "outputs": [],
   "source": [
    "pyHub.saveVoltTupleIntoTable()"
   ]
  },
  {
   "cell_type": "code",
   "execution_count": 2,
   "id": "8b92a74c-9b53-4998-8714-2abfc171b71d",
   "metadata": {},
   "outputs": [
    {
     "data": {
      "text/plain": [
       "True"
      ]
     },
     "execution_count": 2,
     "metadata": {},
     "output_type": "execute_result"
    }
   ],
   "source": [
    "pyHub.insertOneVoltTable()"
   ]
  },
  {
   "cell_type": "code",
   "execution_count": 5,
   "id": "c10fff8a-9fd3-465b-a510-d20a4a1524ba",
   "metadata": {},
   "outputs": [
    {
     "data": {
      "text/plain": [
       "2"
      ]
     },
     "execution_count": 5,
     "metadata": {},
     "output_type": "execute_result"
    }
   ],
   "source": [
    "pyHub.countVoltTable()"
   ]
  },
  {
   "cell_type": "code",
   "execution_count": 5,
   "id": "d6d61615-ad6c-4d93-954f-22207b5d90d3",
   "metadata": {},
   "outputs": [],
   "source": [
    "pyHub.clearVoltTable()"
   ]
  },
  {
   "cell_type": "code",
   "execution_count": 3,
   "id": "e7bb63bf-9072-4517-8803-5b90bdd1046e",
   "metadata": {},
   "outputs": [
    {
     "name": "stdout",
     "output_type": "stream",
     "text": [
      "volt = 3.3528836 @ time = Wed Nov 15 18:17:35 2023\n",
      "volt = 3.3528836 @ time = Wed Nov 15 18:17:37 2023\n",
      "volt = 3.347996 @ time = Wed Nov 15 18:17:38 2023\n",
      "volt = 3.3577712 @ time = Wed Nov 15 18:17:40 2023\n",
      "volt = 3.3577712 @ time = Wed Nov 15 18:17:41 2023\n",
      "volt = 3.347996 @ time = Wed Nov 22 14:18:10 2023\n",
      "volt = 3.3431084 @ time = Wed Nov 22 14:18:12 2023\n",
      "volt = 3.3528836 @ time = Wed Nov 22 14:18:13 2023\n",
      "volt = 3.3577712 @ time = Wed Nov 22 14:18:15 2023\n",
      "volt = 3.3528836 @ time = Wed Nov 22 14:18:16 2023\n",
      "volt = 3.347996 @ time = Wed Nov 22 14:18:18 2023\n",
      "volt = 3.347996 @ time = Wed Nov 22 14:18:19 2023\n",
      "volt = 3.3528836 @ time = Wed Nov 22 14:18:21 2023\n",
      "volt = 3.347996 @ time = Wed Nov 22 14:18:22 2023\n",
      "volt = 3.3431084 @ time = Wed Nov 22 14:18:24 2023\n"
     ]
    }
   ],
   "source": [
    "pyHub.printVoltTuple()"
   ]
  },
  {
   "cell_type": "code",
   "execution_count": 2,
   "id": "4e82c931-9c96-4191-be0e-80ccee6939a0",
   "metadata": {},
   "outputs": [],
   "source": [
    "pyHub.loadVoltTupleFromTable()"
   ]
  },
  {
   "cell_type": "code",
   "execution_count": null,
   "id": "d56cb731-577b-4a9e-ada0-4aa15b9519d6",
   "metadata": {},
   "outputs": [],
   "source": []
  }
 ],
 "metadata": {
  "kernelspec": {
   "display_name": "Python 3 (ipykernel)",
   "language": "python",
   "name": "python3"
  },
  "language_info": {
   "codemirror_mode": {
    "name": "ipython",
    "version": 3
   },
   "file_extension": ".py",
   "mimetype": "text/x-python",
   "name": "python",
   "nbconvert_exporter": "python",
   "pygments_lexer": "ipython3",
   "version": "3.12.0"
  }
 },
 "nbformat": 4,
 "nbformat_minor": 5
}
