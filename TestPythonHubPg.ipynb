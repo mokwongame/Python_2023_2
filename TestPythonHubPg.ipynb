{
 "cells": [
  {
   "cell_type": "code",
   "execution_count": 1,
   "id": "399cfeb9-f6f9-4873-b644-d4ea3fb2639c",
   "metadata": {},
   "outputs": [],
   "source": [
    "from PythonHub import PythonHub\n",
    "pyHub = PythonHub()"
   ]
  },
  {
   "cell_type": "code",
   "execution_count": 3,
   "id": "0c941f73-7642-4ceb-888e-ec9c25c4861c",
   "metadata": {},
   "outputs": [],
   "source": [
    "pyHub.sampleVoltTuble(5, 1)"
   ]
  },
  {
   "cell_type": "code",
   "execution_count": 5,
   "id": "8ba24975-8640-4b53-8fad-3bff77b889e3",
   "metadata": {},
   "outputs": [
    {
     "name": "stdout",
     "output_type": "stream",
     "text": [
      "volt = 3.3528836 @ time = Wed Nov 15 17:49:15 2023\n",
      "volt = 3.3528836 @ time = Wed Nov 15 17:49:16 2023\n",
      "volt = 3.3577712 @ time = Wed Nov 15 17:49:18 2023\n",
      "volt = 3.3528836 @ time = Wed Nov 15 17:49:19 2023\n",
      "volt = 3.3528836 @ time = Wed Nov 15 17:49:21 2023\n"
     ]
    }
   ],
   "source": [
    "pyHub.printVoltTuple()"
   ]
  },
  {
   "cell_type": "code",
   "execution_count": 2,
   "id": "8b92a74c-9b53-4998-8714-2abfc171b71d",
   "metadata": {},
   "outputs": [
    {
     "data": {
      "text/plain": [
       "True"
      ]
     },
     "execution_count": 2,
     "metadata": {},
     "output_type": "execute_result"
    }
   ],
   "source": [
    "pyHub.insertOneVoltTable()"
   ]
  },
  {
   "cell_type": "code",
   "execution_count": 5,
   "id": "c10fff8a-9fd3-465b-a510-d20a4a1524ba",
   "metadata": {},
   "outputs": [
    {
     "data": {
      "text/plain": [
       "2"
      ]
     },
     "execution_count": 5,
     "metadata": {},
     "output_type": "execute_result"
    }
   ],
   "source": [
    "pyHub.countVoltTable()"
   ]
  },
  {
   "cell_type": "code",
   "execution_count": 2,
   "id": "d6d61615-ad6c-4d93-954f-22207b5d90d3",
   "metadata": {},
   "outputs": [],
   "source": [
    "pyHub.clearVoltTable()"
   ]
  },
  {
   "cell_type": "code",
   "execution_count": null,
   "id": "e7bb63bf-9072-4517-8803-5b90bdd1046e",
   "metadata": {},
   "outputs": [],
   "source": []
  }
 ],
 "metadata": {
  "kernelspec": {
   "display_name": "Python 3 (ipykernel)",
   "language": "python",
   "name": "python3"
  },
  "language_info": {
   "codemirror_mode": {
    "name": "ipython",
    "version": 3
   },
   "file_extension": ".py",
   "mimetype": "text/x-python",
   "name": "python",
   "nbconvert_exporter": "python",
   "pygments_lexer": "ipython3",
   "version": "3.12.0"
  }
 },
 "nbformat": 4,
 "nbformat_minor": 5
}
