{
 "cells": [
  {
   "cell_type": "code",
   "execution_count": 1,
   "id": "399cfeb9-f6f9-4873-b644-d4ea3fb2639c",
   "metadata": {},
   "outputs": [],
   "source": [
    "from PythonHub import PythonHub\n",
    "pyHub = PythonHub()"
   ]
  },
  {
   "cell_type": "code",
   "execution_count": 2,
   "id": "ff5ee2d8-aa37-4ec8-aa2d-1af9c76af3c4",
   "metadata": {},
   "outputs": [
    {
     "name": "stdout",
     "output_type": "stream",
     "text": [
      "Serial error!\n"
     ]
    },
    {
     "data": {
      "text/plain": [
       "-1"
      ]
     },
     "execution_count": 2,
     "metadata": {},
     "output_type": "execute_result"
    }
   ],
   "source": [
    "pyHub.getVolt()"
   ]
  },
  {
   "cell_type": "code",
   "execution_count": 5,
   "id": "c10fff8a-9fd3-465b-a510-d20a4a1524ba",
   "metadata": {},
   "outputs": [
    {
     "data": {
      "text/plain": [
       "0"
      ]
     },
     "execution_count": 5,
     "metadata": {},
     "output_type": "execute_result"
    }
   ],
   "source": [
    "pyHub.countVoltTable()"
   ]
  },
  {
   "cell_type": "code",
   "execution_count": 4,
   "id": "d6d61615-ad6c-4d93-954f-22207b5d90d3",
   "metadata": {},
   "outputs": [],
   "source": [
    "pyHub.clearVoltTable()"
   ]
  },
  {
   "cell_type": "code",
   "execution_count": null,
   "id": "e7bb63bf-9072-4517-8803-5b90bdd1046e",
   "metadata": {},
   "outputs": [],
   "source": []
  }
 ],
 "metadata": {
  "kernelspec": {
   "display_name": "Python 3 (ipykernel)",
   "language": "python",
   "name": "python3"
  },
  "language_info": {
   "codemirror_mode": {
    "name": "ipython",
    "version": 3
   },
   "file_extension": ".py",
   "mimetype": "text/x-python",
   "name": "python",
   "nbconvert_exporter": "python",
   "pygments_lexer": "ipython3",
   "version": "3.12.0"
  }
 },
 "nbformat": 4,
 "nbformat_minor": 5
}
