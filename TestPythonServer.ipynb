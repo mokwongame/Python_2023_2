{
 "cells": [
  {
   "cell_type": "code",
   "execution_count": 1,
   "id": "151246f3-58cd-4526-b85e-d74343370e65",
   "metadata": {},
   "outputs": [
    {
     "ename": "NameError",
     "evalue": "name 'slef' is not defined",
     "output_type": "error",
     "traceback": [
      "\u001b[1;31m---------------------------------------------------------------------------\u001b[0m",
      "\u001b[1;31mNameError\u001b[0m                                 Traceback (most recent call last)",
      "Cell \u001b[1;32mIn[1], line 2\u001b[0m\n\u001b[0;32m      1\u001b[0m \u001b[38;5;28;01mfrom\u001b[39;00m \u001b[38;5;21;01mPythonServer\u001b[39;00m \u001b[38;5;28;01mimport\u001b[39;00m PythonServer\n\u001b[1;32m----> 2\u001b[0m server \u001b[38;5;241m=\u001b[39m \u001b[43mPythonServer\u001b[49m\u001b[43m(\u001b[49m\u001b[43m)\u001b[49m\n\u001b[0;32m      3\u001b[0m server\u001b[38;5;241m.\u001b[39mrun()\n",
      "File \u001b[1;32mD:\\Python_2023_2\\PythonServer.py:13\u001b[0m, in \u001b[0;36mPythonServer.__init__\u001b[1;34m(self, host, port)\u001b[0m\n\u001b[0;32m     11\u001b[0m \u001b[38;5;28mself\u001b[39m\u001b[38;5;241m.\u001b[39mport \u001b[38;5;241m=\u001b[39m port\n\u001b[0;32m     12\u001b[0m \u001b[38;5;28mself\u001b[39m\u001b[38;5;241m.\u001b[39mwebServer \u001b[38;5;241m=\u001b[39m HTTPServer((\u001b[38;5;28mself\u001b[39m\u001b[38;5;241m.\u001b[39mhost, \u001b[38;5;28mself\u001b[39m\u001b[38;5;241m.\u001b[39mport), HubRequestHandler)\n\u001b[1;32m---> 13\u001b[0m \u001b[43mslef\u001b[49m\u001b[38;5;241m.\u001b[39mwebServer\u001b[38;5;241m.\u001b[39mgateway \u001b[38;5;241m=\u001b[39m PythonHub()\n",
      "\u001b[1;31mNameError\u001b[0m: name 'slef' is not defined"
     ]
    }
   ],
   "source": [
    "from PythonServer import PythonServer\n",
    "server = PythonServer()\n",
    "server.run()"
   ]
  },
  {
   "cell_type": "code",
   "execution_count": null,
   "id": "6f2f25e4-1e18-4d64-ba4c-e4824d75ffbe",
   "metadata": {},
   "outputs": [],
   "source": []
  }
 ],
 "metadata": {
  "kernelspec": {
   "display_name": "Python 3 (ipykernel)",
   "language": "python",
   "name": "python3"
  },
  "language_info": {
   "codemirror_mode": {
    "name": "ipython",
    "version": 3
   },
   "file_extension": ".py",
   "mimetype": "text/x-python",
   "name": "python",
   "nbconvert_exporter": "python",
   "pygments_lexer": "ipython3",
   "version": "3.12.0"
  }
 },
 "nbformat": 4,
 "nbformat_minor": 5
}
