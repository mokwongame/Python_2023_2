{
 "cells": [
  {
   "cell_type": "code",
   "execution_count": 2,
   "id": "ead59e90-4d11-4e81-aa4d-7ecf3844742b",
   "metadata": {},
   "outputs": [],
   "source": [
    "import pandas.io.sql as psql\n",
    "import psycopg2"
   ]
  },
  {
   "cell_type": "code",
   "execution_count": 3,
   "id": "cd61c03f-2814-4914-848f-7c47f151d917",
   "metadata": {},
   "outputs": [],
   "source": [
    "conn = psycopg2.connect(host='localhost', database='postgres', user='postgres', password='2023', port='5432')"
   ]
  },
  {
   "cell_type": "code",
   "execution_count": 4,
   "id": "6378bb0d-b812-42dc-9be3-cd4c1fc6b2d6",
   "metadata": {},
   "outputs": [
    {
     "name": "stderr",
     "output_type": "stream",
     "text": [
      "C:\\Users\\USER\\AppData\\Local\\Temp\\ipykernel_12000\\3140076725.py:2: UserWarning: pandas only supports SQLAlchemy connectable (engine/connection) or database string URI or sqlite3 DBAPI2 connection. Other DBAPI2 objects are not tested. Please consider using SQLAlchemy.\n",
      "  df = psql.read_sql('SELECT * FROM volt_table', conn)\n"
     ]
    }
   ],
   "source": [
    "# DataFrame: DB에서 table에 해당하는 pandas 개념\n",
    "df = psql.read_sql('SELECT * FROM volt_table', conn)"
   ]
  },
  {
   "cell_type": "code",
   "execution_count": 5,
   "id": "36b0f0f1-5b93-48b5-aa22-bbb6e8594bc1",
   "metadata": {},
   "outputs": [
    {
     "data": {
      "text/html": [
       "<div>\n",
       "<style scoped>\n",
       "    .dataframe tbody tr th:only-of-type {\n",
       "        vertical-align: middle;\n",
       "    }\n",
       "\n",
       "    .dataframe tbody tr th {\n",
       "        vertical-align: top;\n",
       "    }\n",
       "\n",
       "    .dataframe thead th {\n",
       "        text-align: right;\n",
       "    }\n",
       "</style>\n",
       "<table border=\"1\" class=\"dataframe\">\n",
       "  <thead>\n",
       "    <tr style=\"text-align: right;\">\n",
       "      <th></th>\n",
       "      <th>meas_time</th>\n",
       "      <th>volt</th>\n",
       "    </tr>\n",
       "  </thead>\n",
       "  <tbody>\n",
       "    <tr>\n",
       "      <th>count</th>\n",
       "      <td>3.600000e+01</td>\n",
       "      <td>36.000000</td>\n",
       "    </tr>\n",
       "    <tr>\n",
       "      <th>mean</th>\n",
       "      <td>1.700905e+09</td>\n",
       "      <td>3.352069</td>\n",
       "    </tr>\n",
       "    <tr>\n",
       "      <th>std</th>\n",
       "      <td>4.430007e+05</td>\n",
       "      <td>0.005159</td>\n",
       "    </tr>\n",
       "    <tr>\n",
       "      <th>min</th>\n",
       "      <td>1.700040e+09</td>\n",
       "      <td>3.343108</td>\n",
       "    </tr>\n",
       "    <tr>\n",
       "      <th>25%</th>\n",
       "      <td>1.700630e+09</td>\n",
       "      <td>3.347996</td>\n",
       "    </tr>\n",
       "    <tr>\n",
       "      <th>50%</th>\n",
       "      <td>1.701239e+09</td>\n",
       "      <td>3.352884</td>\n",
       "    </tr>\n",
       "    <tr>\n",
       "      <th>75%</th>\n",
       "      <td>1.701242e+09</td>\n",
       "      <td>3.354106</td>\n",
       "    </tr>\n",
       "    <tr>\n",
       "      <th>max</th>\n",
       "      <td>1.701242e+09</td>\n",
       "      <td>3.362659</td>\n",
       "    </tr>\n",
       "  </tbody>\n",
       "</table>\n",
       "</div>"
      ],
      "text/plain": [
       "          meas_time       volt\n",
       "count  3.600000e+01  36.000000\n",
       "mean   1.700905e+09   3.352069\n",
       "std    4.430007e+05   0.005159\n",
       "min    1.700040e+09   3.343108\n",
       "25%    1.700630e+09   3.347996\n",
       "50%    1.701239e+09   3.352884\n",
       "75%    1.701242e+09   3.354106\n",
       "max    1.701242e+09   3.362659"
      ]
     },
     "execution_count": 5,
     "metadata": {},
     "output_type": "execute_result"
    }
   ],
   "source": [
    "# DataFrame의 특성 보기\n",
    "df.describe()"
   ]
  },
  {
   "cell_type": "code",
   "execution_count": 6,
   "id": "1cb5513e-bfaa-439f-9c91-4404ed78fbf1",
   "metadata": {},
   "outputs": [
    {
     "data": {
      "text/plain": [
       "36"
      ]
     },
     "execution_count": 6,
     "metadata": {},
     "output_type": "execute_result"
    }
   ],
   "source": [
    "# DataFrame의 원소 개수\n",
    "len(df)"
   ]
  },
  {
   "cell_type": "code",
   "execution_count": 13,
   "id": "da0449b1-d9e2-41db-876f-c1f8e83aad79",
   "metadata": {},
   "outputs": [
    {
     "name": "stdout",
     "output_type": "stream",
     "text": [
      "0     3.352884\n",
      "1     3.352884\n",
      "2     3.347996\n",
      "3     3.357771\n",
      "4     3.357771\n",
      "5     3.347996\n",
      "6     3.343108\n",
      "7     3.352884\n",
      "8     3.357771\n",
      "9     3.352884\n",
      "10    3.347996\n",
      "11    3.347996\n",
      "12    3.352884\n",
      "13    3.347996\n",
      "14    3.343108\n",
      "15    3.352884\n",
      "16    3.357771\n",
      "17    3.347996\n",
      "18    3.357771\n",
      "19    3.347996\n",
      "20    3.347996\n",
      "21    3.352884\n",
      "22    3.352884\n",
      "23    3.343108\n",
      "24    3.357771\n",
      "25    3.352884\n",
      "26    3.347996\n",
      "27    3.352884\n",
      "28    3.352884\n",
      "29    3.352884\n",
      "30    3.357771\n",
      "31    3.362659\n",
      "32    3.362659\n",
      "33    3.352884\n",
      "34    3.343108\n",
      "35    3.352884\n",
      "Name: volt, dtype: float64\n"
     ]
    }
   ],
   "source": [
    "#DataFrame에서 Series를 접근\n",
    "ser = df['volt']\n",
    "print(ser)"
   ]
  },
  {
   "cell_type": "code",
   "execution_count": 8,
   "id": "acc26deb-9870-4fd6-9284-2751246f56e3",
   "metadata": {
    "scrolled": true
   },
   "outputs": [
    {
     "name": "stdout",
     "output_type": "stream",
     "text": [
      "meas_time\n",
      "volt\n"
     ]
    }
   ],
   "source": [
    "# DataFrame의 Series 이름에 접근\n",
    "print(df.columns[0])\n",
    "print(df.columns[1])"
   ]
  },
  {
   "cell_type": "code",
   "execution_count": 16,
   "id": "23808c19-0de3-4538-9c02-c807948a5093",
   "metadata": {},
   "outputs": [
    {
     "name": "stdout",
     "output_type": "stream",
     "text": [
      "3.3520689944444446\n"
     ]
    }
   ],
   "source": [
    "#mean = df['volt'].mean()\n",
    "mean = ser.mean() # 평균\n",
    "print(mean)"
   ]
  },
  {
   "cell_type": "code",
   "execution_count": 18,
   "id": "f5c68308-5f57-4973-a9b3-676a17287f37",
   "metadata": {},
   "outputs": [
    {
     "name": "stdout",
     "output_type": "stream",
     "text": [
      "3.3528836\n"
     ]
    }
   ],
   "source": [
    "med = ser.median() # 중앙값\n",
    "print(med)"
   ]
  },
  {
   "cell_type": "code",
   "execution_count": 19,
   "id": "38f076a5-51a5-488d-90df-321be142da70",
   "metadata": {},
   "outputs": [
    {
     "name": "stdout",
     "output_type": "stream",
     "text": [
      "2.6618642306824967e-05\n"
     ]
    }
   ],
   "source": [
    "var = ser.var() # 분산\n",
    "print(var)"
   ]
  },
  {
   "cell_type": "code",
   "execution_count": 20,
   "id": "c2d21abb-e74e-435f-9798-d9effdd02603",
   "metadata": {},
   "outputs": [
    {
     "name": "stdout",
     "output_type": "stream",
     "text": [
      "0.005159325760874667\n"
     ]
    }
   ],
   "source": [
    "std = ser.std() # 표준 편차\n",
    "print(std)"
   ]
  },
  {
   "cell_type": "code",
   "execution_count": null,
   "id": "96f48acf-575c-4901-806f-a3c698cb727e",
   "metadata": {},
   "outputs": [],
   "source": [
    "# describleVoltTable()의 구성: 'volt' Series를 얻어서 mean(), median(), var(), std()를 호출\n",
    "# describleVoltTable()은 PythonHub의 메소드"
   ]
  }
 ],
 "metadata": {
  "kernelspec": {
   "display_name": "Python 3 (ipykernel)",
   "language": "python",
   "name": "python3"
  },
  "language_info": {
   "codemirror_mode": {
    "name": "ipython",
    "version": 3
   },
   "file_extension": ".py",
   "mimetype": "text/x-python",
   "name": "python",
   "nbconvert_exporter": "python",
   "pygments_lexer": "ipython3",
   "version": "3.12.0"
  }
 },
 "nbformat": 4,
 "nbformat_minor": 5
}
